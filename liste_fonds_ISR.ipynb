{
 "cells": [
  {
   "cell_type": "code",
   "execution_count": 7,
   "metadata": {},
   "outputs": [
    {
     "ename": "ModuleNotFoundError",
     "evalue": "No module named 'duckduckgo_search'",
     "output_type": "error",
     "traceback": [
      "\u001b[0;31m---------------------------------------------------------------------------\u001b[0m",
      "\u001b[0;31mModuleNotFoundError\u001b[0m                       Traceback (most recent call last)",
      "Cell \u001b[0;32mIn[7], line 3\u001b[0m\n\u001b[1;32m      1\u001b[0m \u001b[38;5;28;01mimport\u001b[39;00m \u001b[38;5;21;01mpandas\u001b[39;00m \u001b[38;5;28;01mas\u001b[39;00m \u001b[38;5;21;01mpd\u001b[39;00m\n\u001b[1;32m      2\u001b[0m \u001b[38;5;28;01mfrom\u001b[39;00m \u001b[38;5;21;01mtime\u001b[39;00m \u001b[38;5;28;01mimport\u001b[39;00m sleep\n\u001b[0;32m----> 3\u001b[0m \u001b[38;5;28;01mimport\u001b[39;00m \u001b[38;5;21;01mduckduckgo_search\u001b[39;00m\n\u001b[1;32m      4\u001b[0m \u001b[38;5;28;01mfrom\u001b[39;00m \u001b[38;5;21;01mduckduckgo_search\u001b[39;00m \u001b[38;5;28;01mimport\u001b[39;00m DDGS\n\u001b[1;32m      6\u001b[0m \u001b[38;5;66;03m# Liste des fichiers à analyser\u001b[39;00m\n",
      "\u001b[0;31mModuleNotFoundError\u001b[0m: No module named 'duckduckgo_search'"
     ]
    }
   ],
   "source": [
    "import pandas as pd\n",
    "from time import sleep\n",
    "\n",
    "\n",
    "# Liste des fichiers à analyser\n",
    "datafiles = ['250101_Liste_fonds_label_ISR-6.xlsx', '250101_Liste_fonds_label_ISR-7.xlsx']\n",
    "\n",
    "# Liste des mots-clés à rechercher\n",
    "keywords = ['inclusion', 'diversity', 'emploi', 'health', 'santé', 'equity']\n",
    "\n",
    "# Initialiser une liste pour stocker les résultats\n",
    "total_matching_cells = []\n",
    "\n",
    "for datafile in datafiles:\n",
    "    # Charger le fichier Excel\n",
    "    df = pd.read_excel(datafile)\n",
    "    \n",
    "    # Sélectionner la deuxième colonne (B), peu importe son nom réel\n",
    "    col_b_name = df.columns[1]  # La deuxième colonne a l'index 1\n",
    "    \n",
    "    # Filtrer les cellules contenant au moins un des mots-clés\n",
    "    matching_cells = df[df[col_b_name].astype(str).str.contains('|'.join(keywords), case=False, na=False)][col_b_name].tolist()\n",
    "    \n",
    "    # Ajouter les résultats avec le nom du fichier comme référence\n",
    "    total_matching_cells.extend([(datafile, cell) for cell in matching_cells])\n",
    "\n",
    "# Convertir en DataFrame et sauvegarder le résultat\n",
    "output_df = pd.DataFrame(total_matching_cells, columns=['Fichier', 'Nom du Fonds'])\n",
    "output_file = 'matching_cells.xlsx'\n",
    "output_df.to_excel(output_file, index=False)\n",
    "\n",
    "print(f\"Résultats enregistrés dans {output_file}\")\n",
    "\n",
    "# Recherche d'informations sur chaque fonds\n",
    "fonds_info = []\n",
    "\n",
    "for _, row in output_df.iterrows():\n",
    "    fund_name = row['Nom du Fonds']\n",
    "    query = f\"{fund_name} documentation rendement volatilité\"\n",
    "    search_results = list(ddgs.text(query, max_results=1))\n",
    "    \n",
    "    # Simuler une pause pour éviter un blocage\n",
    "    sleep(2)\n",
    "    \n",
    "    # Ajouter les résultats trouvés (extrait du premier résultat)\n",
    "    if search_results:\n",
    "        fonds_info.append([fund_name, search_results[0]['title'], search_results[0]['href']])\n",
    "    else:\n",
    "        fonds_info.append([fund_name, \"Aucune information trouvée\", \"\"])\n",
    "\n",
    "# Sauvegarder les informations dans un fichier Excel\n",
    "fonds_df = pd.DataFrame(fonds_info, columns=['Nom du Fonds', 'Titre de la Source', 'Lien'])\n",
    "fonds_output_file = 'fonds_info.xlsx'\n",
    "fonds_df.to_excel(fonds_output_file, index=False)\n",
    "\n",
    "print(f\"Informations des fonds enregistrées dans {fonds_output_file}\")\n"
   ]
  },
  {
   "cell_type": "code",
   "execution_count": null,
   "metadata": {},
   "outputs": [],
   "source": [
    "tickers = [\n",
    "    # ==== OAT VERTES via ETF ====\n",
    "    \"EGOA.PA\",     # Amundi Euro Government Green Bond UCITS ETF (Yahoo Finance)\n",
    "    \"GRNB\",        # Lyxor Green Bond ETF - DR (Lyxor devenu Amundi) - ticker US\n",
    "    \"GSGB\",        # Goldman Sachs Global Green Bond UCITS ETF (Yahoo Finance)\n",
    "    \"GRN0.DE\",     # iShares € Green Bond UCITS ETF (Xetra - Allemagne)\n",
    "\n",
    "    # ==== ETF OBLIGATAIRES INDEXÉS INFLATION ====\n",
    "    \"TIP\",         # iShares TIPS Bond ETF (US Treasury Inflation-Protected Securities)\n",
    "\n",
    "    # ==== ETF OBLIGATAIRES VERTS ====\n",
    "    \"BGRN\",        # iShares Global Green Bond ETF (USD)\n",
    "\n",
    "    # ==== ETF À IMPACT / THÉMATIQUES ESG ====\n",
    "    \"UBS6.DE\",     # UBS Global Gender Equality ETF (Yahoo - Xetra)\n",
    "    \"GEND.PA\",     # Amundi Global Gender Equality UCITS ETF (Yahoo - Paris)\n",
    "    \"AGED\",        # iShares Ageing Population UCITS ETF (Yahoo - US)\n",
    "    \"VBUG.DE\",     # VanEck Bionic Engineering UCITS ETF (Yahoo - Xetra)\n",
    "\n",
    "    # ==== ACTIONS DIRECTES ====\n",
    "    \"SW.PA\",       # Sodexo (France)\n",
    "    \"CAP.PA\",      # Capgemini (France)\n",
    "    \"EL.PA\",       # EssilorLuxottica (France) - nom correct sur Yahoo\n",
    "    \"2353.TW\",     # Acer Inc. (Taiwan)\n",
    "    \"YAMCY\",       # Yamaha Corp. (ADR - US)\n",
    "    \"7951.T\",      # Yamaha Corp. (Tokyo)\n",
    "\n",
    "    # ==== (OPTIONNEL) À VÉRIFIER ====\n",
    "    # \"GB00BYYT3J23.PAR\",  # Amundi Green Bonds ETF - pas reconnu sur Yahoo à ce jour\n",
    "]\n"
   ]
  }
 ],
 "metadata": {
  "kernelspec": {
   "display_name": "Python 3",
   "language": "python",
   "name": "python3"
  },
  "language_info": {
   "codemirror_mode": {
    "name": "ipython",
    "version": 3
   },
   "file_extension": ".py",
   "mimetype": "text/x-python",
   "name": "python",
   "nbconvert_exporter": "python",
   "pygments_lexer": "ipython3",
   "version": "3.11.7"
  }
 },
 "nbformat": 4,
 "nbformat_minor": 2
}
