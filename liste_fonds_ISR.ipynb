{
 "cells": [
  {
   "cell_type": "code",
   "execution_count": 44,
   "metadata": {},
   "outputs": [
    {
     "name": "stdout",
     "output_type": "stream",
     "text": [
      "Résultats enregistrés dans matching_cells.xlsx\n"
     ]
    }
   ],
   "source": [
    "import pandas as pd\n",
    "from time import sleep\n",
    "\n",
    "\n",
    "# Liste des fichiers à analyser\n",
    "datafiles = ['250101_Liste_fonds_label_ISR-6.xlsx', '250101_Liste_fonds_label_ISR-7.xlsx']\n",
    "\n",
    "# Liste des mots-clés à rechercher\n",
    "keywords = ['inclusion', 'diversity', 'emploi', 'health', 'santé', 'equity']\n",
    "\n",
    "# Initialiser une liste pour stocker les résultats\n",
    "total_matching_cells = []\n",
    "\n",
    "for datafile in datafiles:\n",
    "    # Charger le fichier Excel\n",
    "    df = pd.read_excel(datafile)\n",
    "    \n",
    "    # Sélectionner la deuxième colonne (B), peu importe son nom réel\n",
    "    col_b_name = df.columns[1]  # La deuxième colonne a l'index 1\n",
    "    \n",
    "    # Filtrer les cellules contenant au moins un des mots-clés\n",
    "    matching_cells = df[df[col_b_name].astype(str).str.contains('|'.join(keywords), case=False, na=False)][col_b_name].tolist()\n",
    "    \n",
    "    # Ajouter les résultats avec le nom du fichier comme référence\n",
    "    total_matching_cells.extend([(datafile, cell) for cell in matching_cells])\n",
    "\n",
    "# Convertir en DataFrame et sauvegarder le résultat\n",
    "output_df = pd.DataFrame(total_matching_cells, columns=['Fichier', 'Nom du Fonds'])\n",
    "output_file = 'matching_cells.xlsx'\n",
    "output_df.to_excel(output_file, index=False)\n",
    "\n",
    "print(f\"Résultats enregistrés dans {output_file}\")"
   ]
  },
  {
   "cell_type": "code",
   "execution_count": 3,
   "metadata": {},
   "outputs": [
    {
     "name": "stdout",
     "output_type": "stream",
     "text": [
      "Requirement already satisfied: pandas in /Library/Frameworks/Python.framework/Versions/3.11/lib/python3.11/site-packages (2.2.0)\n",
      "Requirement already satisfied: openpyxl in /Library/Frameworks/Python.framework/Versions/3.11/lib/python3.11/site-packages (3.1.5)\n",
      "Requirement already satisfied: numpy<2,>=1.23.2 in /Library/Frameworks/Python.framework/Versions/3.11/lib/python3.11/site-packages (from pandas) (1.26.3)\n",
      "Requirement already satisfied: python-dateutil>=2.8.2 in /Library/Frameworks/Python.framework/Versions/3.11/lib/python3.11/site-packages (from pandas) (2.8.2)\n",
      "Requirement already satisfied: pytz>=2020.1 in /Library/Frameworks/Python.framework/Versions/3.11/lib/python3.11/site-packages (from pandas) (2023.3.post1)\n",
      "Requirement already satisfied: tzdata>=2022.7 in /Library/Frameworks/Python.framework/Versions/3.11/lib/python3.11/site-packages (from pandas) (2023.4)\n",
      "Requirement already satisfied: et-xmlfile in /Library/Frameworks/Python.framework/Versions/3.11/lib/python3.11/site-packages (from openpyxl) (2.0.0)\n",
      "Requirement already satisfied: six>=1.5 in /Library/Frameworks/Python.framework/Versions/3.11/lib/python3.11/site-packages (from python-dateutil>=2.8.2->pandas) (1.16.0)\n",
      "\n",
      "\u001b[1m[\u001b[0m\u001b[34;49mnotice\u001b[0m\u001b[1;39;49m]\u001b[0m\u001b[39;49m A new release of pip is available: \u001b[0m\u001b[31;49m24.0\u001b[0m\u001b[39;49m -> \u001b[0m\u001b[32;49m25.0.1\u001b[0m\n",
      "\u001b[1m[\u001b[0m\u001b[34;49mnotice\u001b[0m\u001b[1;39;49m]\u001b[0m\u001b[39;49m To update, run: \u001b[0m\u001b[32;49mpython3 -m pip install --upgrade pip\u001b[0m\n",
      "Note: you may need to restart the kernel to use updated packages.\n"
     ]
    }
   ],
   "source": [
    "pip install pandas openpyxl\n"
   ]
  },
  {
   "cell_type": "code",
   "execution_count": 42,
   "metadata": {},
   "outputs": [],
   "source": [
    "import os\n",
    "import pandas as pd\n",
    "\n",
    "def lire_txt_en_dataframe(chemin_fichier):\n",
    "    # Lire les données (séparateur = tabulation)\n",
    "    df = pd.read_csv(chemin_fichier, sep='\\t')\n",
    "\n",
    "    # Garder seulement les colonnes \"date\" et \"close\"\n",
    "    df = df.iloc[:, [0, 4]]\n",
    "    df.columns = ['date', 'close']\n",
    "\n",
    "    # Convertir les dates en datetime\n",
    "    df['date'] = pd.to_datetime(df['date'], dayfirst=True)\n",
    "    return df\n",
    "\n",
    "def merge_fichiers_avec_isin(fichiers, mapping_isin, dossier_output='financial_data', nom_fichier='data_fonds.csv'):\n",
    "    merged_df = None\n",
    "\n",
    "    # Créer le dossier s'il n'existe pas\n",
    "    os.makedirs(dossier_output, exist_ok=True)\n",
    "\n",
    "    for fichier in fichiers:\n",
    "        isin = mapping_isin.get(fichier)\n",
    "        if not isin:\n",
    "            raise ValueError(f\"Aucun ISIN trouvé pour le fichier : {fichier}\")\n",
    "\n",
    "        df = lire_txt_en_dataframe(fichier)\n",
    "        df = df.rename(columns={'close': isin})\n",
    "\n",
    "        if merged_df is None:\n",
    "            merged_df = df\n",
    "        else:\n",
    "            merged_df = pd.merge(merged_df, df, on='date', how='outer')\n",
    "\n",
    "    # Trier par date et réinitialiser l'index\n",
    "    merged_df = merged_df.sort_values('date').reset_index(drop=True)\n",
    "\n",
    "    # Construire le chemin de sortie complet\n",
    "    chemin_csv = os.path.join(dossier_output, nom_fichier)\n",
    "\n",
    "    # Sauvegarder le dataframe dans un fichier CSV\n",
    "    merged_df.to_csv(chemin_csv, index=False)"
   ]
  },
  {
   "cell_type": "code",
   "execution_count": 43,
   "metadata": {},
   "outputs": [
    {
     "data": {
      "text/plain": [
       "<function __main__.merge_fichiers_avec_isin(fichiers, mapping_isin, dossier_output='financial_data', nom_fichier='data_fonds.csv')>"
      ]
     },
     "execution_count": 43,
     "metadata": {},
     "output_type": "execute_result"
    }
   ],
   "source": [
    "fichiers = [\n",
    "    'INSERTIONEMPLOISDYNAMIQUERC_2025-04-09.txt',\n",
    "    'CANDRIAMBONDSEUROCORPORATE_2025-04-12.txt'\n",
    "]\n",
    "\n",
    "# Dictionnaire de mapping : nom du fichier => ISIN\n",
    "mapping_isin = {\n",
    "    'INSERTIONEMPLOISDYNAMIQUERC_2025-04-09.txt': '0P0000KU3M.F',\n",
    "    'CANDRIAMBONDSEUROCORPORATE_2025-04-12.txt': 'LU1313770536'\n",
    "}\n",
    "\n",
    "merge_fichiers_avec_isin(fichiers, mapping_isin)\n",
    "merge_fichiers_avec_isin\n"
   ]
  }
 ],
 "metadata": {
  "kernelspec": {
   "display_name": "Python 3",
   "language": "python",
   "name": "python3"
  },
  "language_info": {
   "codemirror_mode": {
    "name": "ipython",
    "version": 3
   },
   "file_extension": ".py",
   "mimetype": "text/x-python",
   "name": "python",
   "nbconvert_exporter": "python",
   "pygments_lexer": "ipython3",
   "version": "3.11.7"
  }
 },
 "nbformat": 4,
 "nbformat_minor": 2
}
