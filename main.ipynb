{
 "cells": [
  {
   "cell_type": "markdown",
   "metadata": {},
   "source": [
    "## Main\n",
    "\n",
    "**Ptf :** \n",
    "\n",
    "- **20% projet**  \n",
    "- **15% obligataire**   \n",
    "- **20% fonds à impact / mirova**  \n",
    "- **5% ETF**  \n",
    "- **5% crypto verte/entreprise qui investit dans manière verte de gérer gestion de données**  \n",
    "- **15% oblig corpo**  \n",
    "- **10% actions** \n",
    "\n",
    "**Code :** \n",
    "\n",
    "- **Recherche des données**  (data_collector.py)\n",
    "- **Analyse des données** (data_analysis.py)\n",
    "- **Construction du portefeuille** (strategy.py)  \n",
    "- **Reporting** \n",
    "- **Suivi du ptf=\\> mécanisme de sortie en cas de faillite \\=\\> stress tests**"
   ]
  },
  {
   "cell_type": "code",
   "execution_count": null,
   "metadata": {},
   "outputs": [],
   "source": []
  }
 ],
 "metadata": {
  "language_info": {
   "name": "python"
  }
 },
 "nbformat": 4,
 "nbformat_minor": 2
}
